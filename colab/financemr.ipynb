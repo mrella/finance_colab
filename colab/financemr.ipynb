{
  "cells": [
    {
      "cell_type": "markdown",
      "metadata": {
        "id": "view-in-github",
        "colab_type": "text"
      },
      "source": [
        "<a href=\"https://colab.research.google.com/github/mrella/financemr/blob/main/colab/financemr.ipynb\" target=\"_parent\"><img src=\"https://colab.research.google.com/assets/colab-badge.svg\" alt=\"Open In Colab\"/></a>"
      ]
    },
    {
      "cell_type": "code",
      "execution_count": 5,
      "metadata": {
        "colab": {
          "base_uri": "https://localhost:8080/"
        },
        "id": "aAGRFqX0hwAz",
        "outputId": "e02ddf5d-5428-42eb-c788-b90455c2fc4b"
      },
      "outputs": [
        {
          "output_type": "stream",
          "name": "stdout",
          "text": [
            "Collecting riskfolio-lib\n",
            "  Downloading riskfolio_lib-7.0.1-cp311-cp311-manylinux_2_17_x86_64.manylinux2014_x86_64.whl.metadata (17 kB)\n",
            "Requirement already satisfied: numpy>=1.24.0 in /usr/local/lib/python3.11/dist-packages (from riskfolio-lib) (2.0.2)\n",
            "Requirement already satisfied: scipy>=1.10.0 in /usr/local/lib/python3.11/dist-packages (from riskfolio-lib) (1.15.3)\n",
            "Requirement already satisfied: pandas>=2.0.0 in /usr/local/lib/python3.11/dist-packages (from riskfolio-lib) (2.2.2)\n",
            "Requirement already satisfied: matplotlib>=3.8.0 in /usr/local/lib/python3.11/dist-packages (from riskfolio-lib) (3.10.0)\n",
            "Requirement already satisfied: clarabel>=0.6.0 in /usr/local/lib/python3.11/dist-packages (from riskfolio-lib) (0.11.1)\n",
            "Requirement already satisfied: cvxpy>=1.5.2 in /usr/local/lib/python3.11/dist-packages (from riskfolio-lib) (1.6.6)\n",
            "Requirement already satisfied: scikit-learn>=1.3.0 in /usr/local/lib/python3.11/dist-packages (from riskfolio-lib) (1.6.1)\n",
            "Requirement already satisfied: statsmodels>=0.13.5 in /usr/local/lib/python3.11/dist-packages (from riskfolio-lib) (0.14.4)\n",
            "Collecting arch>=7.0 (from riskfolio-lib)\n",
            "  Downloading arch-7.2.0-cp311-cp311-manylinux_2_17_x86_64.manylinux2014_x86_64.whl.metadata (13 kB)\n",
            "Collecting xlsxwriter>=3.1.2 (from riskfolio-lib)\n",
            "  Downloading xlsxwriter-3.2.5-py3-none-any.whl.metadata (2.7 kB)\n",
            "Requirement already satisfied: networkx>=3.0 in /usr/local/lib/python3.11/dist-packages (from riskfolio-lib) (3.5)\n",
            "Requirement already satisfied: astropy>=5.1 in /usr/local/lib/python3.11/dist-packages (from riskfolio-lib) (7.1.0)\n",
            "Collecting pybind11>=2.10.1 (from riskfolio-lib)\n",
            "  Downloading pybind11-2.13.6-py3-none-any.whl.metadata (9.5 kB)\n",
            "Requirement already satisfied: pyerfa>=2.0.1.1 in /usr/local/lib/python3.11/dist-packages (from astropy>=5.1->riskfolio-lib) (2.0.1.5)\n",
            "Requirement already satisfied: astropy-iers-data>=0.2025.4.28.0.37.27 in /usr/local/lib/python3.11/dist-packages (from astropy>=5.1->riskfolio-lib) (0.2025.6.16.0.38.47)\n",
            "Requirement already satisfied: PyYAML>=6.0.0 in /usr/local/lib/python3.11/dist-packages (from astropy>=5.1->riskfolio-lib) (6.0.2)\n",
            "Requirement already satisfied: packaging>=22.0.0 in /usr/local/lib/python3.11/dist-packages (from astropy>=5.1->riskfolio-lib) (24.2)\n",
            "Requirement already satisfied: cffi in /usr/local/lib/python3.11/dist-packages (from clarabel>=0.6.0->riskfolio-lib) (1.17.1)\n",
            "Requirement already satisfied: osqp>=0.6.2 in /usr/local/lib/python3.11/dist-packages (from cvxpy>=1.5.2->riskfolio-lib) (1.0.4)\n",
            "Requirement already satisfied: scs>=3.2.4.post1 in /usr/local/lib/python3.11/dist-packages (from cvxpy>=1.5.2->riskfolio-lib) (3.2.7.post2)\n",
            "Requirement already satisfied: contourpy>=1.0.1 in /usr/local/lib/python3.11/dist-packages (from matplotlib>=3.8.0->riskfolio-lib) (1.3.2)\n",
            "Requirement already satisfied: cycler>=0.10 in /usr/local/lib/python3.11/dist-packages (from matplotlib>=3.8.0->riskfolio-lib) (0.12.1)\n",
            "Requirement already satisfied: fonttools>=4.22.0 in /usr/local/lib/python3.11/dist-packages (from matplotlib>=3.8.0->riskfolio-lib) (4.58.4)\n",
            "Requirement already satisfied: kiwisolver>=1.3.1 in /usr/local/lib/python3.11/dist-packages (from matplotlib>=3.8.0->riskfolio-lib) (1.4.8)\n",
            "Requirement already satisfied: pillow>=8 in /usr/local/lib/python3.11/dist-packages (from matplotlib>=3.8.0->riskfolio-lib) (11.2.1)\n",
            "Requirement already satisfied: pyparsing>=2.3.1 in /usr/local/lib/python3.11/dist-packages (from matplotlib>=3.8.0->riskfolio-lib) (3.2.3)\n",
            "Requirement already satisfied: python-dateutil>=2.7 in /usr/local/lib/python3.11/dist-packages (from matplotlib>=3.8.0->riskfolio-lib) (2.9.0.post0)\n",
            "Requirement already satisfied: pytz>=2020.1 in /usr/local/lib/python3.11/dist-packages (from pandas>=2.0.0->riskfolio-lib) (2025.2)\n",
            "Requirement already satisfied: tzdata>=2022.7 in /usr/local/lib/python3.11/dist-packages (from pandas>=2.0.0->riskfolio-lib) (2025.2)\n",
            "Requirement already satisfied: joblib>=1.2.0 in /usr/local/lib/python3.11/dist-packages (from scikit-learn>=1.3.0->riskfolio-lib) (1.5.1)\n",
            "Requirement already satisfied: threadpoolctl>=3.1.0 in /usr/local/lib/python3.11/dist-packages (from scikit-learn>=1.3.0->riskfolio-lib) (3.6.0)\n",
            "Requirement already satisfied: patsy>=0.5.6 in /usr/local/lib/python3.11/dist-packages (from statsmodels>=0.13.5->riskfolio-lib) (1.0.1)\n",
            "Requirement already satisfied: jinja2 in /usr/local/lib/python3.11/dist-packages (from osqp>=0.6.2->cvxpy>=1.5.2->riskfolio-lib) (3.1.6)\n",
            "Requirement already satisfied: setuptools in /usr/local/lib/python3.11/dist-packages (from osqp>=0.6.2->cvxpy>=1.5.2->riskfolio-lib) (75.2.0)\n",
            "Requirement already satisfied: six>=1.5 in /usr/local/lib/python3.11/dist-packages (from python-dateutil>=2.7->matplotlib>=3.8.0->riskfolio-lib) (1.17.0)\n",
            "Requirement already satisfied: pycparser in /usr/local/lib/python3.11/dist-packages (from cffi->clarabel>=0.6.0->riskfolio-lib) (2.22)\n",
            "Requirement already satisfied: MarkupSafe>=2.0 in /usr/local/lib/python3.11/dist-packages (from jinja2->osqp>=0.6.2->cvxpy>=1.5.2->riskfolio-lib) (3.0.2)\n",
            "Downloading riskfolio_lib-7.0.1-cp311-cp311-manylinux_2_17_x86_64.manylinux2014_x86_64.whl (314 kB)\n",
            "\u001b[2K   \u001b[90m━━━━━━━━━━━━━━━━━━━━━━━━━━━━━━━━━━━━━━━━\u001b[0m \u001b[32m315.0/315.0 kB\u001b[0m \u001b[31m7.1 MB/s\u001b[0m eta \u001b[36m0:00:00\u001b[0m\n",
            "\u001b[?25hDownloading arch-7.2.0-cp311-cp311-manylinux_2_17_x86_64.manylinux2014_x86_64.whl (985 kB)\n",
            "\u001b[2K   \u001b[90m━━━━━━━━━━━━━━━━━━━━━━━━━━━━━━━━━━━━━━━━\u001b[0m \u001b[32m985.3/985.3 kB\u001b[0m \u001b[31m34.4 MB/s\u001b[0m eta \u001b[36m0:00:00\u001b[0m\n",
            "\u001b[?25hDownloading pybind11-2.13.6-py3-none-any.whl (243 kB)\n",
            "\u001b[2K   \u001b[90m━━━━━━━━━━━━━━━━━━━━━━━━━━━━━━━━━━━━━━━━\u001b[0m \u001b[32m243.3/243.3 kB\u001b[0m \u001b[31m16.7 MB/s\u001b[0m eta \u001b[36m0:00:00\u001b[0m\n",
            "\u001b[?25hDownloading xlsxwriter-3.2.5-py3-none-any.whl (172 kB)\n",
            "\u001b[2K   \u001b[90m━━━━━━━━━━━━━━━━━━━━━━━━━━━━━━━━━━━━━━━━\u001b[0m \u001b[32m172.3/172.3 kB\u001b[0m \u001b[31m12.2 MB/s\u001b[0m eta \u001b[36m0:00:00\u001b[0m\n",
            "\u001b[?25hInstalling collected packages: xlsxwriter, pybind11, arch, riskfolio-lib\n",
            "Successfully installed arch-7.2.0 pybind11-2.13.6 riskfolio-lib-7.0.1 xlsxwriter-3.2.5\n",
            "Requirement already satisfied: hmmlearn in /usr/local/lib/python3.11/dist-packages (0.3.3)\n",
            "Requirement already satisfied: numpy>=1.10 in /usr/local/lib/python3.11/dist-packages (from hmmlearn) (2.0.2)\n",
            "Requirement already satisfied: scikit-learn!=0.22.0,>=0.16 in /usr/local/lib/python3.11/dist-packages (from hmmlearn) (1.6.1)\n",
            "Requirement already satisfied: scipy>=0.19 in /usr/local/lib/python3.11/dist-packages (from hmmlearn) (1.15.3)\n",
            "Requirement already satisfied: joblib>=1.2.0 in /usr/local/lib/python3.11/dist-packages (from scikit-learn!=0.22.0,>=0.16->hmmlearn) (1.5.1)\n",
            "Requirement already satisfied: threadpoolctl>=3.1.0 in /usr/local/lib/python3.11/dist-packages (from scikit-learn!=0.22.0,>=0.16->hmmlearn) (3.6.0)\n",
            "Requirement already satisfied: mstarpy in /usr/local/lib/python3.11/dist-packages (3.0.0)\n",
            "Requirement already satisfied: beautifulsoup4>=4.11.1 in /usr/local/lib/python3.11/dist-packages (from mstarpy) (4.13.4)\n",
            "Requirement already satisfied: pandas>=1.3.5 in /usr/local/lib/python3.11/dist-packages (from mstarpy) (2.2.2)\n",
            "Requirement already satisfied: requests>=2.28.1 in /usr/local/lib/python3.11/dist-packages (from mstarpy) (2.32.3)\n",
            "Requirement already satisfied: soupsieve>1.2 in /usr/local/lib/python3.11/dist-packages (from beautifulsoup4>=4.11.1->mstarpy) (2.7)\n",
            "Requirement already satisfied: typing-extensions>=4.0.0 in /usr/local/lib/python3.11/dist-packages (from beautifulsoup4>=4.11.1->mstarpy) (4.14.0)\n",
            "Requirement already satisfied: numpy>=1.23.2 in /usr/local/lib/python3.11/dist-packages (from pandas>=1.3.5->mstarpy) (2.0.2)\n",
            "Requirement already satisfied: python-dateutil>=2.8.2 in /usr/local/lib/python3.11/dist-packages (from pandas>=1.3.5->mstarpy) (2.9.0.post0)\n",
            "Requirement already satisfied: pytz>=2020.1 in /usr/local/lib/python3.11/dist-packages (from pandas>=1.3.5->mstarpy) (2025.2)\n",
            "Requirement already satisfied: tzdata>=2022.7 in /usr/local/lib/python3.11/dist-packages (from pandas>=1.3.5->mstarpy) (2025.2)\n",
            "Requirement already satisfied: charset-normalizer<4,>=2 in /usr/local/lib/python3.11/dist-packages (from requests>=2.28.1->mstarpy) (3.4.2)\n",
            "Requirement already satisfied: idna<4,>=2.5 in /usr/local/lib/python3.11/dist-packages (from requests>=2.28.1->mstarpy) (3.10)\n",
            "Requirement already satisfied: urllib3<3,>=1.21.1 in /usr/local/lib/python3.11/dist-packages (from requests>=2.28.1->mstarpy) (2.4.0)\n",
            "Requirement already satisfied: certifi>=2017.4.17 in /usr/local/lib/python3.11/dist-packages (from requests>=2.28.1->mstarpy) (2025.6.15)\n",
            "Requirement already satisfied: six>=1.5 in /usr/local/lib/python3.11/dist-packages (from python-dateutil>=2.8.2->pandas>=1.3.5->mstarpy) (1.17.0)\n",
            "Requirement already satisfied: fuzzywuzzy in /usr/local/lib/python3.11/dist-packages (0.18.0)\n"
          ]
        }
      ],
      "source": [
        "!pip install riskfolio-lib\n",
        "!pip install hmmlearn\n",
        "!pip install mstarpy\n",
        "!pip install fuzzywuzzy"
      ]
    },
    {
      "cell_type": "code",
      "execution_count": 21,
      "metadata": {
        "colab": {
          "base_uri": "https://localhost:8080/"
        },
        "id": "kfETY_EjhVk7",
        "outputId": "fce620d3-deb7-491a-a1c7-90112ec39807"
      },
      "outputs": [
        {
          "output_type": "stream",
          "name": "stdout",
          "text": [
            "Cloning into 'financemr'...\n",
            "remote: Enumerating objects: 199, done.\u001b[K\n",
            "remote: Counting objects: 100% (61/61), done.\u001b[K\n",
            "remote: Compressing objects: 100% (58/58), done.\u001b[K\n",
            "remote: Total 199 (delta 32), reused 3 (delta 3), pack-reused 138 (from 1)\u001b[K\n",
            "Receiving objects: 100% (199/199), 33.30 MiB | 24.25 MiB/s, done.\n",
            "Resolving deltas: 100% (76/76), done.\n"
          ]
        }
      ],
      "source": [
        "!rm -Rf ./financemr\n",
        "!git clone https://github.com/mrella/financemr\n",
        "!mv /content/./financemr/*.* /content/"
      ]
    },
    {
      "cell_type": "code",
      "execution_count": 18,
      "metadata": {
        "colab": {
          "base_uri": "https://localhost:8080/"
        },
        "id": "m9ya_xI_hhBT",
        "outputId": "d3cffda0-11a5-4f5e-d950-43e68bd17859"
      },
      "outputs": [
        {
          "output_type": "stream",
          "name": "stdout",
          "text": [
            "Traceback (most recent call last):\n",
            "  File \"/content/./financemr.py\", line 1, in <module>\n",
            "    import graficador_markov\n",
            "  File \"/content/graficador_markov.py\", line 4, in <module>\n",
            "    from hmmlearn import hmm\n",
            "  File \"/usr/local/lib/python3.11/dist-packages/hmmlearn/hmm.py\", line 9, in <module>\n",
            "    from sklearn import cluster\n",
            "  File \"/usr/local/lib/python3.11/dist-packages/sklearn/__init__.py\", line 73, in <module>\n",
            "    from .base import clone  # noqa: E402\n",
            "    ^^^^^^^^^^^^^^^^^^^^^^^\n",
            "  File \"/usr/local/lib/python3.11/dist-packages/sklearn/base.py\", line 19, in <module>\n",
            "    from .utils._estimator_html_repr import _HTMLDocumentationLinkMixin, estimator_html_repr\n",
            "  File \"/usr/local/lib/python3.11/dist-packages/sklearn/utils/__init__.py\", line 15, in <module>\n",
            "    from ._chunking import gen_batches, gen_even_slices\n",
            "  File \"/usr/local/lib/python3.11/dist-packages/sklearn/utils/_chunking.py\", line 11, in <module>\n",
            "    from ._param_validation import Interval, validate_params\n",
            "  File \"/usr/local/lib/python3.11/dist-packages/sklearn/utils/_param_validation.py\", line 17, in <module>\n",
            "    from .validation import _is_arraylike_not_scalar\n",
            "  File \"/usr/local/lib/python3.11/dist-packages/sklearn/utils/validation.py\", line 21, in <module>\n",
            "    from ..utils._array_api import _asarray_with_order, _is_numpy_namespace, get_namespace\n",
            "  File \"/usr/local/lib/python3.11/dist-packages/sklearn/utils/_array_api.py\", line 14, in <module>\n",
            "    import scipy.special as special\n",
            "  File \"/usr/local/lib/python3.11/dist-packages/scipy/special/__init__.py\", line 817, in <module>\n",
            "    from . import _ufuncs\n",
            "  File \"scipy/special/_ufuncs.pyx\", line 14353, in init scipy.special._ufuncs\n",
            "KeyboardInterrupt\n",
            "^C\n"
          ]
        }
      ],
      "source": [
        "#!python ./financemr.py"
      ]
    },
    {
      "cell_type": "code",
      "source": [
        "import graficador_markov\n",
        "import best_stocks_morningstar as best_stocks\n",
        "import drawdown_medio_tickers as drawdown\n",
        "import graficador_lppl\n",
        "import riskportfoliolib_herc_nco as riskfolio\n",
        "import gappers\n",
        "import cruces\n",
        "import graficador_ma\n",
        "import tg as t\n",
        "import pandas as pd\n",
        "import os\n",
        "import seaborn as sns\n",
        "import tickers\n",
        "sns.set_theme(style=\"darkgrid\", palette=\"muted\", font_scale=1.1)\n",
        "from matplotlib import style\n",
        "import matplotlib\n",
        "\n",
        "matplotlib.use('Agg')\n",
        "import time\n",
        "style.use('dark_background')\n",
        "\n",
        "\n",
        "#### VARIABLES DE FICHEROS\n",
        "path_base       = \"./\"\n",
        "#path_base       = \"C:/users/mrella/OneDrive - Consorci Administració Oberta de Catalunya/Inversion/FinanceMR/\"\n",
        "path_tickers    = path_base + \"tickers/\"\n",
        "os.makedirs(path_tickers, exist_ok=True)\n"
      ],
      "metadata": {
        "id": "eS-58jRPcc8J"
      },
      "execution_count": 22,
      "outputs": []
    },
    {
      "cell_type": "code",
      "source": [
        "#### MARKOV HIDDEN\n",
        "print(\"MARKOV ..........................................................\")\n",
        "\n",
        "graficador_markov.generar_graficos(['SPY','QQQ'], path_tickers,'5y')\n",
        "for ticker in ['SPY','QQQ']:\n",
        "    t.send_img(f\"{path_tickers}{ticker}_markov_return.png\",caption=f\"Hidden MARKOV Returns Analysis {ticker}\")\n",
        "    t.send_img(f\"{path_tickers}{ticker}_markov_atr.png\",caption=f\"Hidden MARKOV ATR Analysis {ticker}\")\n",
        "t.send(\"Explicación MARKOV: https://chatgpt.com/share/6859c35f-9130-8002-8cff-f15e677bd165)\")"
      ],
      "metadata": {
        "id": "yXKO8dVfd_hx"
      },
      "execution_count": null,
      "outputs": []
    },
    {
      "cell_type": "code",
      "source": [
        "#### LPPL SOBRECOMPRA Y SOBREVENTA\n",
        "print(\"LPPL .................................................................\")\n",
        "\n",
        "graficador_lppl.generar_graficos(['SPY','QQQ'], path_tickers)\n",
        "for ticker in ['SPY','QQQ']:\n",
        "    t.send_img(f\"{path_tickers}{ticker}_lppl.png\",caption=f\"LPPL sobrecompra sobreventa {ticker}\")\n",
        "\n"
      ],
      "metadata": {
        "id": "4F1VmnfVeAeD"
      },
      "execution_count": null,
      "outputs": []
    },
    {
      "cell_type": "code",
      "source": [
        "#### DRAWDOWN MEDIO TICKERS\n",
        "print(\"DRAWDOWN MEDIO........................................................\")\n",
        "path_drawdown_medio = path_base + \"drawdown_medio/\"\n",
        "os.makedirs(path_drawdown_medio, exist_ok=True)\n",
        "#drawdown.generar_graficos(path_drawdown_medio)\n",
        "drawdown.generar_graficos_video(path_drawdown_medio)\n",
        "#t.send_img(path_drawdown_medio+\"spy_drawdown.png\",caption=\"Mean drawdown SPY\")\n",
        "t.send_video(path_drawdown_medio+\"spy_drawdown.mp4\",caption=\"Mean drawdown SPY animation\")\n",
        "#t.send_img(path_drawdown_medio+\"qqq_drawdown.png\",caption=\"Mean drawdown QQQ\")\n",
        "t.send_video(path_drawdown_medio+\"qqq_drawdown.mp4\",caption=\"Mean drawdown QQQ animation\")\n"
      ],
      "metadata": {
        "id": "-90sIVpReEf7"
      },
      "execution_count": null,
      "outputs": []
    },
    {
      "cell_type": "code",
      "source": [
        "#### RISKPORTFOLIOLIB HERC NCO\n",
        "print(\"RISKFOLIO............................................................\")\n",
        "path_riskfolio = path_base + \"riskfolio/\"\n",
        "os.makedirs(path_riskfolio, exist_ok=True)\n",
        "assets = [\"XLK\", \"TLT\", \"GOLD\", \"BILL\", \"SPY\", \"IWM\", \"IWO\", \"KWEB\"]\n",
        "riskfolio.generar_graficos(path_riskfolio, assets)\n",
        "t.send_img(path_riskfolio+\"clusters.png\",caption=\"Optimización sharpe riskfoliolib HERC clusters assets diversificados\")\n",
        "t.send_img(path_riskfolio+\"herc_pie.png\",caption=\"HERC optimizacion ajustada a riesgo\")\n",
        "t.send_img(path_riskfolio+\"herc_drawdown.png\",caption=\"HERC drawdown\")\n",
        "t.send_img(path_riskfolio+\"herc_table.png\",caption=\"HERC detalle\")\n",
        "t.send(\"Optimización sharpe riskfoliolib NCO:\")\n",
        "t.send_img(path_riskfolio+\"nco_pie.png\",caption=\"NCO optimizacion más agresiva\")\n",
        "t.send_img(path_riskfolio+\"nco_drawdown.png\",caption=\"NCO drawdown\")\n",
        "t.send_img(path_riskfolio+\"nco_table.png\",caption=\"NCO detalle\")"
      ],
      "metadata": {
        "id": "hI1fhOVTeI9Q"
      },
      "execution_count": null,
      "outputs": []
    },
    {
      "cell_type": "code",
      "source": [
        "#### BEST STOCKS MORNINGSTAR\n",
        "print(\"BEST STOCKS..........................................................\")\n",
        "path_best_stocks = path_base + \"best_stocks/\"\n",
        "os.makedirs(path_best_stocks, exist_ok=True)\n",
        "best_stocks.generar_graficos(path_best_stocks)\n",
        "t.send_img(path_best_stocks+\"best_stocks.png\",caption=\"Core best stocks more repeated (x-axis) at the most profitable funds at morningstar\")\n"
      ],
      "metadata": {
        "id": "3Q4Df9W9eND4"
      },
      "execution_count": null,
      "outputs": []
    },
    {
      "cell_type": "code",
      "source": [
        "\n",
        "#### GAPPERS\n",
        "print(\"GAPPERS..........................................................\")\n",
        "gappers_str, num_gappers, last_gappers = gappers.get_gappers(tickers.tickers_spy_qqq)\n",
        "t.send(f\"Large caps >4% gappers last 30 days ({num_gappers}): \\n\\n  {gappers_str}\")\n",
        "#last_gappers = ['ALB','TSLA']\n",
        "graficador_lppl.generar_graficos(last_gappers, path_tickers)\n",
        "graficador_markov.generar_graficos(last_gappers, path_tickers,'2y')\n",
        "graficador_ma.generar_graficos(last_gappers, path_tickers)\n",
        "\n",
        "\n",
        "for ticker in last_gappers:\n",
        "    t.send_img(f\"{path_tickers}{ticker}_ma.png\",caption=f\"MA gapper {ticker}\")\n",
        "    time.sleep(2)\n",
        "    t.send_img(f\"{path_tickers}{ticker}_lppl.png\",caption=f\"LPPL gapper {ticker}\")\n",
        "    time.sleep(2)\n",
        "    t.send_img(f\"{path_tickers}{ticker}_markov_return.png\",caption=f\"MARKOV return gapper {ticker}\")\n",
        "    time.sleep(2)\n",
        "    t.send_img(f\"{path_tickers}{ticker}_markov_atr.png\",caption=f\"MARKOV atr gapper {ticker}\")\n",
        "    time.sleep(2)\n"
      ],
      "metadata": {
        "id": "vRY5G2zUeMzU"
      },
      "execution_count": null,
      "outputs": []
    },
    {
      "cell_type": "markdown",
      "source": [],
      "metadata": {
        "id": "gnDrqDheeLGX"
      }
    },
    {
      "cell_type": "code",
      "source": [
        "#### CRUCES\n",
        "print(\"CRUCES...........................................................\")\n",
        "last_cruces = cruces.get_cruces(tickers.tickers_spy_qqq)\n",
        "\n",
        "t.send(f\"Last crosses MA20/50: {last_cruces}\")\n",
        "print(\"markov...........................................................\")\n",
        "graficador_markov.generar_graficos(last_cruces, path_tickers,'2y')\n",
        "print(\"lppl.............................................................\")\n",
        "graficador_lppl.generar_graficos(last_cruces, path_tickers)\n",
        "print(\"ma...............................................................\")\n",
        "graficador_ma.generar_graficos(last_cruces, path_tickers)\n",
        "\n",
        "for ticker in last_cruces:\n",
        "    t.send_img(f\"{path_tickers}{ticker}_ma.png\",caption=f\"MA cruce {ticker}\")\n",
        "    time.sleep(2)\n",
        "    t.send_img(f\"{path_tickers}{ticker}_lppl.png\",caption=f\"LPPL cruce {ticker}\")\n",
        "    time.sleep(2)\n",
        "    t.send_img(f\"{path_tickers}{ticker}_markov_return.png\",caption=f\"MARKOV cruce  {ticker}\")\n",
        "    time.sleep(2)\n",
        "    t.send_img(f\"{path_tickers}{ticker}_markov_atr.png\",caption=f\"MARKOV atr cruce {ticker}\")\n",
        "    time.sleep(2)"
      ],
      "metadata": {
        "colab": {
          "base_uri": "https://localhost:8080/"
        },
        "id": "6XIDEAhrdZd2",
        "outputId": "492b078c-cc0b-41fb-bcb4-d03dc0e2d808"
      },
      "execution_count": null,
      "outputs": [
        {
          "output_type": "stream",
          "name": "stdout",
          "text": [
            "CRUCES...........................................................\n"
          ]
        },
        {
          "output_type": "stream",
          "name": "stderr",
          "text": [
            "ERROR:yfinance:\n",
            "1 Failed download:\n",
            "ERROR:yfinance:['BRK.B']: YFPricesMissingError('possibly delisted; no price data found  (period=6mo) (Yahoo error = \"No data found, symbol may be delisted\")')\n",
            "ERROR:yfinance:\n",
            "1 Failed download:\n",
            "ERROR:yfinance:['BF.B']: YFPricesMissingError('possibly delisted; no price data found  (period=6mo)')\n"
          ]
        },
        {
          "output_type": "stream",
          "name": "stdout",
          "text": [
            "Response Code: 200\n",
            "Message sent successfully\n",
            "markov...........................................................\n",
            "lppl.............................................................\n",
            "ma...............................................................\n",
            "Response Code: 200\n",
            "Photo sent successfully\n",
            "Response Code: 200\n",
            "Photo sent successfully\n",
            "Response Code: 200\n",
            "Photo sent successfully\n",
            "Response Code: 200\n",
            "Photo sent successfully\n",
            "Response Code: 200\n",
            "Photo sent successfully\n"
          ]
        }
      ]
    }
  ],
  "metadata": {
    "colab": {
      "provenance": [],
      "authorship_tag": "ABX9TyPX9gh6DvM4tasD5anzZMm0",
      "include_colab_link": true
    },
    "kernelspec": {
      "display_name": "Python 3",
      "name": "python3"
    },
    "language_info": {
      "name": "python"
    }
  },
  "nbformat": 4,
  "nbformat_minor": 0
}